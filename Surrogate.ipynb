{
  "nbformat": 4,
  "nbformat_minor": 0,
  "metadata": {
    "colab": {
      "name": "Surrogate ",
      "provenance": [],
      "include_colab_link": true
    },
    "kernelspec": {
      "name": "python3",
      "display_name": "Python 3"
    }
  },
  "cells": [
    {
      "cell_type": "markdown",
      "metadata": {
        "id": "view-in-github",
        "colab_type": "text"
      },
      "source": [
        "<a href=\"https://colab.research.google.com/github/FarahdilaAbdullah/Surogate/blob/master/Surrogate.ipynb\" target=\"_parent\"><img src=\"https://colab.research.google.com/assets/colab-badge.svg\" alt=\"Open In Colab\"/></a>"
      ]
    },
    {
      "cell_type": "code",
      "metadata": {
        "id": "o4hPfXXLMAFZ",
        "colab_type": "code",
        "colab": {}
      },
      "source": [
        "import numpy\n",
        "\n",
        "\n",
        "def UnivariateSurrogates(data_f,MaxIter):\n",
        "    \n",
        "    xs=data_f.copy()\n",
        "    xs.sort() #sorted amplitude stored\n",
        "    pwx=numpy.abs(numpy.fft.fft(data_f)) # amplitude of fourier transform of orig\n",
        "    \n",
        "    data_f.shape = (-1,1)\n",
        "    xsur = numpy.random.permutation(data_f) #random permutation as starting point\n",
        "    xsur.shape = (1,-1)\n",
        "    \n",
        "    for i in range(MaxIter):\n",
        "        fftsurx = pwx*numpy.exp(1j*numpy.angle(numpy.fft.fft(xsur)))\n",
        "        xoutb = numpy.real(numpy.fft.ifft(fftsurx))\n",
        "        ranks = xoutb.argsort(axis=1)\n",
        "        xsur[:,ranks] = xs\n",
        "    return(xsur)\n",
        "\n",
        "\n",
        "def BivariateSurrogates(data_f,MaxIter):\n",
        "    \n",
        "     M = data_f.shape[1]\n",
        "\n",
        "     sorted_original = data_f.copy()\n",
        "     sorted_original.sort(axis=1)\n",
        "\n",
        "     fourier_transform = numpy.fft.fft(data_f)\n",
        "     original_fourier_amps = numpy.abs(fourier_transform)\n",
        "     original_fourier_phase = numpy.angle(fourier_transform)\n",
        "     phix = original_fourier_phase\n",
        "     niterations = 120\n",
        "     xsur = numpy.random.permutation(data_f).transpose()\n",
        "     \n",
        "     for i in xrange(niterations):\n",
        "          phisx = numpy.angle(numpy.fft.fft(xsur))\n",
        "          alpha = numpy.zeros((M,1))\n",
        "          for cc in range(1,int(numpy.ceil(M/2)),1):\n",
        "               alpha[cc] = numpy.arctan(numpy.sum(numpy.sin(phisx[:,cc]-phix[:,cc]))/numpy.sum(numpy.cos(phisx[:,cc]-phix[:,cc])))\n",
        "               if numpy.sum(numpy.cos(alpha[cc]+phix[:,cc]-phisx[:,cc])) < 0:\n",
        "                   alpha[cc] = alpha[cc]-numpy.pi\n",
        "               alpha[M-1-cc+1] = -alpha[cc]\n",
        "          alpha.shape = (1,-1)\n",
        "          tmpx = numpy.tile(alpha,(2,1))\n",
        "          phases = phix + tmpx\n",
        "          fftsurx = original_fourier_amps*numpy.exp(1j * phases)\n",
        "          xoutb = numpy.real(numpy.fft.ifft(fftsurx,axis=1))\n",
        "          ranks = xoutb.argsort(axis=1)\n",
        "          for k in xrange(sorted_original.shape[0]):\n",
        "              xsur[k,ranks[k,:]] = sorted_original[k,:]         \n",
        "     return(xsur)\n",
        "     \n",
        "     \n",
        "def UnivariateSurrogatesTFT(data_f,MaxIter,fc):\n",
        "    xs=data_f.copy()\n",
        "    xs.sort() #sorted amplitude stored\n",
        "    pwx=numpy.abs(numpy.fft.fft(data_f)) # amplitude of fourier transform of orig\n",
        "    phi = numpy.angle(numpy.fft.fft(data_f))\n",
        "    Len=phi.shape[1]\n",
        "    data_f.shape=(-1,1)\n",
        "    xsur = numpy.random.permutation(data_f) #random permutation as starting point\n",
        "    xsur.shape = (1,-1)\n",
        "    \n",
        "    Fc =  numpy.round(fc*data_f.shape[0])\n",
        "    for i in range(MaxIter):\n",
        "        phi_surr = numpy.angle(numpy.fft.fft(xsur))\n",
        "        phi_surr[0,1:Fc] = phi[0,1:Fc]\n",
        "        phi_surr[0,Len-Fc+1:Len] = phi[0,Len-Fc+1:Len]\n",
        "        phi_surr[0,0] = 0.0\n",
        "        phi_surr[0,Len/2] = 0.0 \n",
        "              \n",
        "        fftsurx = pwx*numpy.exp(1j*phi_surr)\n",
        "        xoutb = numpy.real(numpy.fft.ifft(fftsurx))\n",
        "        ranks = xoutb.argsort(axis=1)\n",
        "        xsur[:,ranks] = xs\n",
        "    return(xsur)\n",
        "\n",
        "def BivariateSurrogatesTFT(data_f,MaxIter,fc):\n",
        "    \n",
        "     M = data_f.shape[1]\n",
        "     Fc =  numpy.round(fc*M)\n",
        "     sorted_original = data_f.copy()\n",
        "     sorted_original.sort(axis=1)\n",
        "\n",
        "     fourier_transform = numpy.fft.fft(data_f)\n",
        "     original_fourier_amps = numpy.abs(fourier_transform)\n",
        "     original_fourier_phase = numpy.angle(fourier_transform)\n",
        "     phix = original_fourier_phase\n",
        "     xsur = numpy.random.permutation(data_f.transpose()).transpose()\n",
        "     for i in xrange(MaxIter):\n",
        "          phisx = numpy.angle(numpy.fft.fft(xsur))\n",
        "          \n",
        "          phisx[:,1:Fc] = phix[:,1:Fc]\n",
        "          phisx[:,M-Fc+1:M] = phix[:,M-Fc+1:M]\n",
        "          phisx[0,0] = 0\n",
        "          phisx[1,0] = 0\n",
        "          phisx[:,M/2] = phix[:,M/2]\n",
        "\n",
        "          \n",
        "          alpha = numpy.zeros((M,1))\n",
        "          for cc in range(1,int(numpy.ceil(M/2)),1):\n",
        "               alpha[cc] = numpy.arctan(numpy.sum(numpy.sin(phisx[:,cc]-phix[:,cc]))/numpy.sum(numpy.cos(phisx[:,cc]-phix[:,cc])))\n",
        "               if numpy.sum(numpy.cos(alpha[cc]+phix[:,cc]-phisx[:,cc])) < 0:\n",
        "                   alpha[cc] = alpha[cc]-numpy.pi\n",
        "               alpha[M-1-cc+1] = -alpha[cc]\n",
        "          alpha.shape = (1,-1)\n",
        "          tmpx = numpy.tile(alpha,(2,1))\n",
        "          phases = phix + tmpx\n",
        "          fftsurx = original_fourier_amps*numpy.exp(1j * phases)\n",
        "          xoutb = numpy.real(numpy.fft.ifft(fftsurx,axis=1))\n",
        "          ranks = xoutb.argsort(axis=1)\n",
        "          for k in xrange(sorted_original.shape[0]):\n",
        "              xsur[k,ranks[k,:]] = sorted_original[k,:]         \n",
        "     return(xsur)"
      ],
      "execution_count": 0,
      "outputs": []
    },
    {
      "cell_type": "code",
      "metadata": {
        "id": "ZKc4qNwbNDvf",
        "colab_type": "code",
        "colab": {}
      },
      "source": [
        "UnivariateSurrogates(data_f,MaxIter)"
      ],
      "execution_count": 0,
      "outputs": []
    },
    {
      "cell_type": "code",
      "metadata": {
        "id": "EGrqCGKONMPu",
        "colab_type": "code",
        "outputId": "b84ebb37-fbec-4283-bcc8-3a61b878bed3",
        "colab": {
          "base_uri": "https://localhost:8080/",
          "height": 34
        }
      },
      "source": [
        "xsur"
      ],
      "execution_count": 0,
      "outputs": [
        {
          "output_type": "execute_result",
          "data": {
            "text/plain": [
              "1"
            ]
          },
          "metadata": {
            "tags": []
          },
          "execution_count": 4
        }
      ]
    }
  ]
}